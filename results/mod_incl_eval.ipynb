{
  "cells": [
    {
      "cell_type": "code",
      "execution_count": 1,
      "metadata": {
        "colab": {
          "base_uri": "https://localhost:8080/"
        },
        "id": "3aMJOaC1D8PZ",
        "outputId": "08104cdb-912f-49b9-b29a-609db0ecf764"
      },
      "outputs": [
        {
          "name": "stdout",
          "output_type": "stream",
          "text": [
            "Requirement already satisfied: mizani in /home/xalexa09/incl_eval/.venv/lib/python3.10/site-packages (0.13.1)\n",
            "Requirement already satisfied: numpy>=1.23.5 in /home/xalexa09/incl_eval/.venv/lib/python3.10/site-packages (from mizani) (2.2.1)\n",
            "Requirement already satisfied: scipy>=1.8.0 in /home/xalexa09/incl_eval/.venv/lib/python3.10/site-packages (from mizani) (1.14.1)\n",
            "Requirement already satisfied: pandas>=2.2.0 in /home/xalexa09/incl_eval/.venv/lib/python3.10/site-packages (from mizani) (2.2.3)\n",
            "Requirement already satisfied: python-dateutil>=2.8.2 in /home/xalexa09/incl_eval/.venv/lib/python3.10/site-packages (from pandas>=2.2.0->mizani) (2.9.0.post0)\n",
            "Requirement already satisfied: pytz>=2020.1 in /home/xalexa09/incl_eval/.venv/lib/python3.10/site-packages (from pandas>=2.2.0->mizani) (2024.2)\n",
            "Requirement already satisfied: tzdata>=2022.7 in /home/xalexa09/incl_eval/.venv/lib/python3.10/site-packages (from pandas>=2.2.0->mizani) (2024.2)\n",
            "Requirement already satisfied: six>=1.5 in /home/xalexa09/incl_eval/.venv/lib/python3.10/site-packages (from python-dateutil>=2.8.2->pandas>=2.2.0->mizani) (1.17.0)\n",
            "Requirement already satisfied: plotnine in /home/xalexa09/incl_eval/.venv/lib/python3.10/site-packages (0.14.4)\n",
            "Requirement already satisfied: matplotlib>=3.8.0 in /home/xalexa09/incl_eval/.venv/lib/python3.10/site-packages (from plotnine) (3.10.0)\n",
            "Requirement already satisfied: pandas>=2.2.0 in /home/xalexa09/incl_eval/.venv/lib/python3.10/site-packages (from plotnine) (2.2.3)\n",
            "Requirement already satisfied: mizani~=0.13.0 in /home/xalexa09/incl_eval/.venv/lib/python3.10/site-packages (from plotnine) (0.13.1)\n",
            "Requirement already satisfied: numpy>=1.23.5 in /home/xalexa09/incl_eval/.venv/lib/python3.10/site-packages (from plotnine) (2.2.1)\n",
            "Requirement already satisfied: scipy>=1.8.0 in /home/xalexa09/incl_eval/.venv/lib/python3.10/site-packages (from plotnine) (1.14.1)\n",
            "Requirement already satisfied: statsmodels>=0.14.0 in /home/xalexa09/incl_eval/.venv/lib/python3.10/site-packages (from plotnine) (0.14.4)\n",
            "Requirement already satisfied: contourpy>=1.0.1 in /home/xalexa09/incl_eval/.venv/lib/python3.10/site-packages (from matplotlib>=3.8.0->plotnine) (1.3.1)\n",
            "Requirement already satisfied: cycler>=0.10 in /home/xalexa09/incl_eval/.venv/lib/python3.10/site-packages (from matplotlib>=3.8.0->plotnine) (0.12.1)\n",
            "Requirement already satisfied: fonttools>=4.22.0 in /home/xalexa09/incl_eval/.venv/lib/python3.10/site-packages (from matplotlib>=3.8.0->plotnine) (4.55.3)\n",
            "Requirement already satisfied: kiwisolver>=1.3.1 in /home/xalexa09/incl_eval/.venv/lib/python3.10/site-packages (from matplotlib>=3.8.0->plotnine) (1.4.8)\n",
            "Requirement already satisfied: packaging>=20.0 in /home/xalexa09/incl_eval/.venv/lib/python3.10/site-packages (from matplotlib>=3.8.0->plotnine) (24.2)\n",
            "Requirement already satisfied: pillow>=8 in /home/xalexa09/incl_eval/.venv/lib/python3.10/site-packages (from matplotlib>=3.8.0->plotnine) (11.0.0)\n",
            "Requirement already satisfied: pyparsing>=2.3.1 in /home/xalexa09/incl_eval/.venv/lib/python3.10/site-packages (from matplotlib>=3.8.0->plotnine) (3.2.0)\n",
            "Requirement already satisfied: python-dateutil>=2.7 in /home/xalexa09/incl_eval/.venv/lib/python3.10/site-packages (from matplotlib>=3.8.0->plotnine) (2.9.0.post0)\n",
            "Requirement already satisfied: pytz>=2020.1 in /home/xalexa09/incl_eval/.venv/lib/python3.10/site-packages (from pandas>=2.2.0->plotnine) (2024.2)\n",
            "Requirement already satisfied: tzdata>=2022.7 in /home/xalexa09/incl_eval/.venv/lib/python3.10/site-packages (from pandas>=2.2.0->plotnine) (2024.2)\n",
            "Requirement already satisfied: patsy>=0.5.6 in /home/xalexa09/incl_eval/.venv/lib/python3.10/site-packages (from statsmodels>=0.14.0->plotnine) (1.0.1)\n",
            "Requirement already satisfied: six>=1.5 in /home/xalexa09/incl_eval/.venv/lib/python3.10/site-packages (from python-dateutil>=2.7->matplotlib>=3.8.0->plotnine) (1.17.0)\n"
          ]
        }
      ],
      "source": [
        "# %cd ../..\n",
        "# %rm -rf omega-modular-incl-eval/\n",
        "# %pwd\n",
        "# !git clone https://github.com/OndrejAlexaj/omega-modular-incl-eval.git\n",
        "# %cd omega-modular-incl-eval/results\n",
        "!pip install mizani\n",
        "!pip install plotnine"
      ]
    },
    {
      "cell_type": "code",
      "execution_count": 2,
      "metadata": {
        "id": "mkqWgo8XEA3P"
      },
      "outputs": [],
      "source": [
        "import datetime\n",
        "import pandas as pd\n",
        "import re as re\n",
        "import tabulate as tab\n",
        "import math\n",
        "from matplotlib.backends.backend_pdf import PdfPages\n",
        "import matplotlib.pyplot as plt\n",
        "# from IPython.display import display\n",
        "\n",
        "import evallib as el\n",
        "\n",
        "import warnings\n",
        "warnings.simplefilter(action='ignore', category=FutureWarning)"
      ]
    },
    {
      "cell_type": "code",
      "execution_count": 3,
      "metadata": {
        "id": "HkIIdeArECCn"
      },
      "outputs": [
        {
          "name": "stderr",
          "output_type": "stream",
          "text": [
            "/home/xalexa09/incl_eval/.venv/lib/python3.10/site-packages/numpy/lib/_nanfunctions_impl.py:1215: RuntimeWarning: Mean of empty slice\n",
            "/home/xalexa09/incl_eval/.venv/lib/python3.10/site-packages/numpy/lib/_nanfunctions_impl.py:1215: RuntimeWarning: Mean of empty slice\n",
            "/home/xalexa09/incl_eval/.venv/lib/python3.10/site-packages/numpy/lib/_nanfunctions_impl.py:1215: RuntimeWarning: Mean of empty slice\n",
            "/home/xalexa09/incl_eval/.venv/lib/python3.10/site-packages/numpy/lib/_nanfunctions_impl.py:1215: RuntimeWarning: Mean of empty slice\n",
            "/home/xalexa09/incl_eval/.venv/lib/python3.10/site-packages/numpy/lib/_nanfunctions_impl.py:1215: RuntimeWarning: Mean of empty slice\n",
            "/home/xalexa09/incl_eval/.venv/lib/python3.10/site-packages/numpy/lib/_nanfunctions_impl.py:1215: RuntimeWarning: Mean of empty slice\n",
            "/home/xalexa09/incl_eval/.venv/lib/python3.10/site-packages/numpy/lib/_nanfunctions_impl.py:1215: RuntimeWarning: Mean of empty slice\n",
            "/home/xalexa09/incl_eval/.venv/lib/python3.10/site-packages/numpy/lib/_nanfunctions_impl.py:1215: RuntimeWarning: Mean of empty slice\n",
            "/home/xalexa09/incl_eval/.venv/lib/python3.10/site-packages/numpy/lib/_nanfunctions_impl.py:1215: RuntimeWarning: Mean of empty slice\n",
            "/home/xalexa09/incl_eval/.venv/lib/python3.10/site-packages/numpy/lib/_nanfunctions_impl.py:1215: RuntimeWarning: Mean of empty slice\n",
            "/home/xalexa09/incl_eval/.venv/lib/python3.10/site-packages/numpy/lib/_nanfunctions_impl.py:1215: RuntimeWarning: Mean of empty slice\n",
            "/home/xalexa09/incl_eval/.venv/lib/python3.10/site-packages/numpy/lib/_nanfunctions_impl.py:1215: RuntimeWarning: Mean of empty slice\n",
            "/home/xalexa09/incl_eval/.venv/lib/python3.10/site-packages/numpy/lib/_nanfunctions_impl.py:1215: RuntimeWarning: Mean of empty slice\n",
            "/home/xalexa09/incl_eval/.venv/lib/python3.10/site-packages/numpy/lib/_nanfunctions_impl.py:1215: RuntimeWarning: Mean of empty slice\n",
            "/home/xalexa09/incl_eval/.venv/lib/python3.10/site-packages/numpy/lib/_nanfunctions_impl.py:1215: RuntimeWarning: Mean of empty slice\n",
            "/home/xalexa09/incl_eval/.venv/lib/python3.10/site-packages/numpy/lib/_nanfunctions_impl.py:1215: RuntimeWarning: Mean of empty slice\n",
            "/home/xalexa09/incl_eval/.venv/lib/python3.10/site-packages/numpy/lib/_nanfunctions_impl.py:1215: RuntimeWarning: Mean of empty slice\n",
            "/home/xalexa09/incl_eval/.venv/lib/python3.10/site-packages/numpy/lib/_nanfunctions_impl.py:1215: RuntimeWarning: Mean of empty slice\n",
            "/home/xalexa09/incl_eval/.venv/lib/python3.10/site-packages/numpy/lib/_nanfunctions_impl.py:1215: RuntimeWarning: Mean of empty slice\n",
            "/home/xalexa09/incl_eval/.venv/lib/python3.10/site-packages/numpy/lib/_nanfunctions_impl.py:1215: RuntimeWarning: Mean of empty slice\n",
            "/home/xalexa09/incl_eval/.venv/lib/python3.10/site-packages/numpy/lib/_nanfunctions_impl.py:1215: RuntimeWarning: Mean of empty slice\n",
            "/home/xalexa09/incl_eval/.venv/lib/python3.10/site-packages/numpy/lib/_nanfunctions_impl.py:1215: RuntimeWarning: Mean of empty slice\n",
            "/home/xalexa09/incl_eval/.venv/lib/python3.10/site-packages/numpy/lib/_nanfunctions_impl.py:1215: RuntimeWarning: Mean of empty slice\n",
            "/home/xalexa09/incl_eval/.venv/lib/python3.10/site-packages/numpy/lib/_nanfunctions_impl.py:1215: RuntimeWarning: Mean of empty slice\n",
            "/home/xalexa09/incl_eval/.venv/lib/python3.10/site-packages/numpy/lib/_nanfunctions_impl.py:1215: RuntimeWarning: Mean of empty slice\n",
            "/home/xalexa09/incl_eval/.venv/lib/python3.10/site-packages/numpy/lib/_nanfunctions_impl.py:1215: RuntimeWarning: Mean of empty slice\n",
            "/home/xalexa09/incl_eval/.venv/lib/python3.10/site-packages/numpy/lib/_nanfunctions_impl.py:1215: RuntimeWarning: Mean of empty slice\n",
            "/home/xalexa09/incl_eval/.venv/lib/python3.10/site-packages/numpy/lib/_nanfunctions_impl.py:1215: RuntimeWarning: Mean of empty slice\n",
            "/home/xalexa09/incl_eval/.venv/lib/python3.10/site-packages/numpy/lib/_nanfunctions_impl.py:1215: RuntimeWarning: Mean of empty slice\n",
            "/home/xalexa09/incl_eval/.venv/lib/python3.10/site-packages/numpy/lib/_nanfunctions_impl.py:1215: RuntimeWarning: Mean of empty slice\n",
            "/home/xalexa09/incl_eval/.venv/lib/python3.10/site-packages/numpy/lib/_nanfunctions_impl.py:1215: RuntimeWarning: Mean of empty slice\n",
            "/home/xalexa09/incl_eval/.venv/lib/python3.10/site-packages/numpy/lib/_nanfunctions_impl.py:1215: RuntimeWarning: Mean of empty slice\n"
          ]
        }
      ],
      "source": [
        "df_hy = el.read_file('hyperltl_exec.csv')\n",
        "df_term = el.read_file('termination_exec.csv')\n",
        "df_r = el.read_file('rabit_exec.csv')\n",
        "df_combined = pd.concat([df_hy, df_term, df_r], ignore_index=True)\n",
        "\n",
        "df_hy_summary = el.summary_stats(df_hy)\n",
        "df_term_summary = el.summary_stats(df_term)\n",
        "df_r_summary = el.summary_stats(df_r)\n",
        "df_combined_summary = el.summary_stats(df_combined)"
      ]
    },
    {
      "cell_type": "markdown",
      "metadata": {
        "id": "GR30rBx3-Dq_"
      },
      "source": [
        "# **Correctness**"
      ]
    },
    {
      "cell_type": "code",
      "execution_count": 4,
      "metadata": {
        "colab": {
          "base_uri": "https://localhost:8080/"
        },
        "id": "iqHGz1Qi9IOX",
        "outputId": "82569094-2bd8-42e7-87a1-126099a00b97"
      },
      "outputs": [
        {
          "data": {
            "text/plain": [
              "np.True_"
            ]
          },
          "execution_count": 4,
          "metadata": {},
          "output_type": "execute_result"
        }
      ],
      "source": [
        "comparison = df_combined['kofola_fast-retcode'] == df_combined['autfilt_64-retcode']\n",
        "filtered_comparison = comparison[~df_combined[['kofola_fast-retcode', 'autfilt_64-retcode']].isnull().any(axis=1)]\n",
        "columns_are_equal = filtered_comparison.all()\n",
        "columns_are_equal"
      ]
    },
    {
      "cell_type": "markdown",
      "metadata": {
        "id": "cRSdLZm9cMMu"
      },
      "source": [
        "# **Execution time**"
      ]
    },
    {
      "cell_type": "code",
      "execution_count": 6,
      "metadata": {
        "id": "qDhg_l1U4ubF"
      },
      "outputs": [],
      "source": [
        "TIMEOUT = 900\n",
        "TIMEOUT_VAL = TIMEOUT * 1.1\n",
        "TIME_MIN = 0.001\n",
        "\n",
        "# to_compare_exec_times = [\"kofola_noopt_low-runtime\", \"bait-runtime\", \"forklift-runtime\", \"rabit-runtime\"]\n",
        "def plot_exec_t(df_eng, df_eng_summary, to_compare_exec_times, output_dir=\"plots\"):\n",
        "    import os\n",
        "\n",
        "    os.makedirs(output_dir, exist_ok=True)\n",
        "\n",
        "    df_eng_copy = df_eng.copy()\n",
        "    df_eng_summary_copy = df_eng_summary.copy()\n",
        "\n",
        "    # Generate unique pairs of methods\n",
        "    pair_list = [(meth1, meth2) for meth1 in to_compare_exec_times for meth2 in to_compare_exec_times if meth1 != meth2]\n",
        "    new_list = []\n",
        "    for (meth1, meth2) in pair_list:\n",
        "        if (meth2, meth1) not in new_list:\n",
        "            new_list.append((meth1, meth2))\n",
        "    pair_list = new_list\n",
        "\n",
        "    MAX = 900000\n",
        "\n",
        "    # Preprocess the data\n",
        "    df_eng_copy = el.sanitize_results(df_eng_copy, df_eng_summary_copy, TIMEOUT_VAL)\n",
        "    for eng in to_compare_exec_times:\n",
        "        df_eng_copy[eng] = df_eng_copy[eng].apply(lambda x: x * 1000)\n",
        "\n",
        "    # Generate and save plots\n",
        "    for (meth1, meth2) in pair_list:\n",
        "        plot = el.scatplot(df_eng_copy, {'x': meth1, 'y': meth2, 'max': MAX, 'states': False})\n",
        "        \n",
        "        file_name = f\"{output_dir}/{meth1}_vs_{meth2}.pdf\"\n",
        "        plot.save(file_name, format='pdf', bbox_inches='tight')\n",
        "\n",
        "        print(f\"Plot saved as {file_name}\")\n",
        "\n",
        "    return"
      ]
    },
    {
      "cell_type": "code",
      "execution_count": 7,
      "metadata": {
        "colab": {
          "base_uri": "https://localhost:8080/",
          "height": 975
        },
        "id": "S7hoGSVucuHk",
        "outputId": "3ed386f1-220d-4719-a0e7-2cde332e1ba8"
      },
      "outputs": [
        {
          "name": "stderr",
          "output_type": "stream",
          "text": [
            "/home/xalexa09/incl_eval/.venv/lib/python3.10/site-packages/plotnine/ggplot.py:615: PlotnineWarning: Saving 8 x 8 in image.\n",
            "/home/xalexa09/incl_eval/.venv/lib/python3.10/site-packages/plotnine/ggplot.py:616: PlotnineWarning: Filename: plots/kofola_fast-runtime_vs_autfilt_64-runtime.pdf\n"
          ]
        },
        {
          "name": "stdout",
          "output_type": "stream",
          "text": [
            "Plot saved as plots/kofola_fast-runtime_vs_autfilt_64-runtime.pdf\n"
          ]
        },
        {
          "name": "stderr",
          "output_type": "stream",
          "text": [
            "/home/xalexa09/incl_eval/.venv/lib/python3.10/site-packages/plotnine/ggplot.py:615: PlotnineWarning: Saving 8 x 8 in image.\n",
            "/home/xalexa09/incl_eval/.venv/lib/python3.10/site-packages/plotnine/ggplot.py:616: PlotnineWarning: Filename: plots/kofola_fast_early-runtime_vs_autfilt_64-runtime.pdf\n"
          ]
        },
        {
          "name": "stdout",
          "output_type": "stream",
          "text": [
            "Plot saved as plots/kofola_fast_early-runtime_vs_autfilt_64-runtime.pdf\n"
          ]
        },
        {
          "name": "stderr",
          "output_type": "stream",
          "text": [
            "/home/xalexa09/incl_eval/.venv/lib/python3.10/site-packages/plotnine/ggplot.py:615: PlotnineWarning: Saving 8 x 8 in image.\n",
            "/home/xalexa09/incl_eval/.venv/lib/python3.10/site-packages/plotnine/ggplot.py:616: PlotnineWarning: Filename: plots/kofola_fast_early_plus-runtime_vs_autfilt_64-runtime.pdf\n"
          ]
        },
        {
          "name": "stdout",
          "output_type": "stream",
          "text": [
            "Plot saved as plots/kofola_fast_early_plus-runtime_vs_autfilt_64-runtime.pdf\n"
          ]
        },
        {
          "name": "stderr",
          "output_type": "stream",
          "text": [
            "/home/xalexa09/incl_eval/.venv/lib/python3.10/site-packages/plotnine/ggplot.py:615: PlotnineWarning: Saving 8 x 8 in image.\n",
            "/home/xalexa09/incl_eval/.venv/lib/python3.10/site-packages/plotnine/ggplot.py:616: PlotnineWarning: Filename: plots/kofola_fast_early_early_plus-runtime_vs_autfilt_64-runtime.pdf\n"
          ]
        },
        {
          "name": "stdout",
          "output_type": "stream",
          "text": [
            "Plot saved as plots/kofola_fast_early_early_plus-runtime_vs_autfilt_64-runtime.pdf\n"
          ]
        },
        {
          "name": "stderr",
          "output_type": "stream",
          "text": [
            "/home/xalexa09/incl_eval/.venv/lib/python3.10/site-packages/plotnine/ggplot.py:615: PlotnineWarning: Saving 8 x 8 in image.\n",
            "/home/xalexa09/incl_eval/.venv/lib/python3.10/site-packages/plotnine/ggplot.py:616: PlotnineWarning: Filename: plots/kofola_fast-runtime_vs_rabit-runtime.pdf\n"
          ]
        },
        {
          "name": "stdout",
          "output_type": "stream",
          "text": [
            "Plot saved as plots/kofola_fast-runtime_vs_rabit-runtime.pdf\n"
          ]
        },
        {
          "name": "stderr",
          "output_type": "stream",
          "text": [
            "/home/xalexa09/incl_eval/.venv/lib/python3.10/site-packages/plotnine/ggplot.py:615: PlotnineWarning: Saving 8 x 8 in image.\n",
            "/home/xalexa09/incl_eval/.venv/lib/python3.10/site-packages/plotnine/ggplot.py:616: PlotnineWarning: Filename: plots/kofola_fast-runtime_vs_forklift-runtime.pdf\n"
          ]
        },
        {
          "name": "stdout",
          "output_type": "stream",
          "text": [
            "Plot saved as plots/kofola_fast-runtime_vs_forklift-runtime.pdf\n"
          ]
        },
        {
          "name": "stderr",
          "output_type": "stream",
          "text": [
            "/home/xalexa09/incl_eval/.venv/lib/python3.10/site-packages/plotnine/ggplot.py:615: PlotnineWarning: Saving 8 x 8 in image.\n",
            "/home/xalexa09/incl_eval/.venv/lib/python3.10/site-packages/plotnine/ggplot.py:616: PlotnineWarning: Filename: plots/kofola_fast-runtime_vs_bait-runtime.pdf\n"
          ]
        },
        {
          "name": "stdout",
          "output_type": "stream",
          "text": [
            "Plot saved as plots/kofola_fast-runtime_vs_bait-runtime.pdf\n"
          ]
        },
        {
          "data": {
            "text/html": [
              "<div>\n",
              "<style scoped>\n",
              "    .dataframe tbody tr th:only-of-type {\n",
              "        vertical-align: middle;\n",
              "    }\n",
              "\n",
              "    .dataframe tbody tr th {\n",
              "        vertical-align: top;\n",
              "    }\n",
              "\n",
              "    .dataframe thead th {\n",
              "        text-align: right;\n",
              "    }\n",
              "</style>\n",
              "<table border=\"1\" class=\"dataframe\">\n",
              "  <thead>\n",
              "    <tr style=\"text-align: right;\">\n",
              "      <th></th>\n",
              "      <th>max</th>\n",
              "      <th>min</th>\n",
              "      <th>mean</th>\n",
              "      <th>median</th>\n",
              "      <th>std</th>\n",
              "      <th>timeouts</th>\n",
              "    </tr>\n",
              "  </thead>\n",
              "  <tbody>\n",
              "    <tr>\n",
              "      <th>rabit-runtime</th>\n",
              "      <td>340.15</td>\n",
              "      <td>0.02</td>\n",
              "      <td>3.125732</td>\n",
              "      <td>0.08</td>\n",
              "      <td>19.727079</td>\n",
              "      <td>39.0</td>\n",
              "    </tr>\n",
              "    <tr>\n",
              "      <th>forklift-runtime</th>\n",
              "      <td>848.73</td>\n",
              "      <td>0.05</td>\n",
              "      <td>7.624224</td>\n",
              "      <td>0.09</td>\n",
              "      <td>59.403719</td>\n",
              "      <td>4.0</td>\n",
              "    </tr>\n",
              "    <tr>\n",
              "      <th>bait-runtime</th>\n",
              "      <td>872.37</td>\n",
              "      <td>0.06</td>\n",
              "      <td>9.588184</td>\n",
              "      <td>0.11</td>\n",
              "      <td>61.378891</td>\n",
              "      <td>25.0</td>\n",
              "    </tr>\n",
              "    <tr>\n",
              "      <th>kofola_fast-runtime</th>\n",
              "      <td>271.25</td>\n",
              "      <td>0.00</td>\n",
              "      <td>0.829857</td>\n",
              "      <td>0.00</td>\n",
              "      <td>11.469397</td>\n",
              "      <td>0.0</td>\n",
              "    </tr>\n",
              "    <tr>\n",
              "      <th>kofola_fast_early-runtime</th>\n",
              "      <td>270.87</td>\n",
              "      <td>0.00</td>\n",
              "      <td>1.041082</td>\n",
              "      <td>0.00</td>\n",
              "      <td>12.485873</td>\n",
              "      <td>0.0</td>\n",
              "    </tr>\n",
              "    <tr>\n",
              "      <th>kofola_fast_early_plus-runtime</th>\n",
              "      <td>270.02</td>\n",
              "      <td>0.00</td>\n",
              "      <td>1.035607</td>\n",
              "      <td>0.00</td>\n",
              "      <td>12.435759</td>\n",
              "      <td>0.0</td>\n",
              "    </tr>\n",
              "    <tr>\n",
              "      <th>kofola_fast_early_early_plus-runtime</th>\n",
              "      <td>272.91</td>\n",
              "      <td>0.00</td>\n",
              "      <td>1.061887</td>\n",
              "      <td>0.00</td>\n",
              "      <td>12.679144</td>\n",
              "      <td>0.0</td>\n",
              "    </tr>\n",
              "    <tr>\n",
              "      <th>autfilt_64-runtime</th>\n",
              "      <td>16.33</td>\n",
              "      <td>0.00</td>\n",
              "      <td>0.138054</td>\n",
              "      <td>0.01</td>\n",
              "      <td>0.920801</td>\n",
              "      <td>12.0</td>\n",
              "    </tr>\n",
              "  </tbody>\n",
              "</table>\n",
              "</div>"
            ],
            "text/plain": [
              "                                         max   min      mean  median  \\\n",
              "rabit-runtime                         340.15  0.02  3.125732    0.08   \n",
              "forklift-runtime                      848.73  0.05  7.624224    0.09   \n",
              "bait-runtime                          872.37  0.06  9.588184    0.11   \n",
              "kofola_fast-runtime                   271.25  0.00  0.829857    0.00   \n",
              "kofola_fast_early-runtime             270.87  0.00  1.041082    0.00   \n",
              "kofola_fast_early_plus-runtime        270.02  0.00  1.035607    0.00   \n",
              "kofola_fast_early_early_plus-runtime  272.91  0.00  1.061887    0.00   \n",
              "autfilt_64-runtime                     16.33  0.00  0.138054    0.01   \n",
              "\n",
              "                                            std  timeouts  \n",
              "rabit-runtime                         19.727079      39.0  \n",
              "forklift-runtime                      59.403719       4.0  \n",
              "bait-runtime                          61.378891      25.0  \n",
              "kofola_fast-runtime                   11.469397       0.0  \n",
              "kofola_fast_early-runtime             12.485873       0.0  \n",
              "kofola_fast_early_plus-runtime        12.435759       0.0  \n",
              "kofola_fast_early_early_plus-runtime  12.679144       0.0  \n",
              "autfilt_64-runtime                     0.920801      12.0  "
            ]
          },
          "execution_count": 7,
          "metadata": {},
          "output_type": "execute_result"
        }
      ],
      "source": [
        "plot_exec_t(df_combined, df_combined_summary,[\"kofola_fast-runtime\",\"autfilt_64-runtime\"])\n",
        "plot_exec_t(df_combined, df_combined_summary,[\"kofola_fast_early-runtime\",\"autfilt_64-runtime\"])\n",
        "plot_exec_t(df_combined, df_combined_summary,[\"kofola_fast_early_plus-runtime\",\"autfilt_64-runtime\"])\n",
        "plot_exec_t(df_combined, df_combined_summary,[\"kofola_fast_early_early_plus-runtime\",\"autfilt_64-runtime\"])\n",
        "\n",
        "plot_exec_t(df_combined, df_combined_summary,[\"kofola_fast-runtime\",\"rabit-runtime\"])\n",
        "plot_exec_t(df_combined, df_combined_summary,[\"kofola_fast-runtime\",\"forklift-runtime\"])\n",
        "plot_exec_t(df_combined, df_combined_summary,[\"kofola_fast-runtime\",\"bait-runtime\"])\n",
        "\n",
        "filtered_rows = df_combined_summary[\n",
        "    df_combined_summary.index.str.endswith('-runtime') & ~df_combined_summary.index.str.contains('cnt')\n",
        "]\n",
        "filtered_rows"
      ]
    },
    {
      "cell_type": "code",
      "execution_count": 8,
      "metadata": {},
      "outputs": [
        {
          "name": "stdout",
          "output_type": "stream",
          "text": [
            "| method                               |   wins |   losses |\n",
            "|--------------------------------------|--------|----------|\n",
            "| autfilt_64-runtime                   |    514 |       48 |\n",
            "| kofola_fast_early_early_plus-runtime |     81 |       93 |\n",
            "| bait-runtime                         |    898 |        8 |\n",
            "| forklift-runtime                     |    885 |       19 |\n",
            "| rabit-runtime                        |    895 |       11 |\n",
            "\n",
            "\n",
            "\n"
          ]
        },
        {
          "name": "stderr",
          "output_type": "stream",
          "text": [
            "/home/xalexa09/incl_eval/.venv/lib/python3.10/site-packages/numpy/lib/_nanfunctions_impl.py:1215: RuntimeWarning: Mean of empty slice\n",
            "/home/xalexa09/incl_eval/.venv/lib/python3.10/site-packages/numpy/lib/_nanfunctions_impl.py:1215: RuntimeWarning: Mean of empty slice\n",
            "/home/xalexa09/incl_eval/.venv/lib/python3.10/site-packages/numpy/lib/_nanfunctions_impl.py:1215: RuntimeWarning: Mean of empty slice\n",
            "/home/xalexa09/incl_eval/.venv/lib/python3.10/site-packages/numpy/lib/_nanfunctions_impl.py:1215: RuntimeWarning: Mean of empty slice\n",
            "/home/xalexa09/incl_eval/.venv/lib/python3.10/site-packages/numpy/lib/_nanfunctions_impl.py:1215: RuntimeWarning: Mean of empty slice\n",
            "/home/xalexa09/incl_eval/.venv/lib/python3.10/site-packages/numpy/lib/_nanfunctions_impl.py:1215: RuntimeWarning: Mean of empty slice\n",
            "/home/xalexa09/incl_eval/.venv/lib/python3.10/site-packages/numpy/lib/_nanfunctions_impl.py:1215: RuntimeWarning: Mean of empty slice\n",
            "/home/xalexa09/incl_eval/.venv/lib/python3.10/site-packages/numpy/lib/_nanfunctions_impl.py:1215: RuntimeWarning: Mean of empty slice\n"
          ]
        }
      ],
      "source": [
        "# comparing wins/loses\n",
        "def compute_wins(df,method):\n",
        "  all_methods = [\n",
        "                 \"autfilt_64\",\n",
        "                 \"kofola_fast_early_early_plus\",\n",
        "                 \"kofola_fast\",\n",
        "                 \"bait\",\n",
        "                 \"forklift\",\n",
        "                 \"rabit\"\n",
        "                ]\n",
        "  suffix = \"-runtime\"\n",
        "  method_suf = method + suffix\n",
        "  all_methods_suf = [m + suffix for m in all_methods]\n",
        "\n",
        "  compare_methods = []\n",
        "  for m in all_methods_suf:\n",
        "    if (m != method_suf):\n",
        "      compare_methods += [(method_suf, m)]\n",
        "\n",
        "  dict_wins = {}\n",
        "  for left, right in compare_methods:\n",
        "        left_over_right = df[df[left] < df[right]]\n",
        "\n",
        "        right_over_left = df[df[left] > df[right]]\n",
        "\n",
        "        dict_wins[right] = {'wins': len(left_over_right),\n",
        "                            'losses': len(right_over_left),\n",
        "                           }\n",
        "  return dict_wins\n",
        "\n",
        "def print_win_table(df,method):\n",
        "  dict_wins = compute_wins(df,method)\n",
        "  tab_wins = []\n",
        "  for key, val in dict_wins.items():\n",
        "    tab_wins.append([key, val['wins'], val['losses']])\n",
        "  headers_wins = [\"method\", \"wins\", \"losses\"]\n",
        "  print(tab.tabulate(tab_wins, headers=headers_wins, tablefmt=\"github\"))\n",
        "\n",
        "\n",
        "df_sant = df_combined.copy()\n",
        "df_sant = el.sanitize_results(df_sant, el.summary_stats(df_sant), TIMEOUT_VAL)\n",
        "print_win_table(df_sant, \"kofola_fast\")\n",
        "print(\"\\n\\n\")"
      ]
    },
    {
      "cell_type": "code",
      "execution_count": 9,
      "metadata": {
        "id": "png2zxDbAQTU"
      },
      "outputs": [],
      "source": [
        "to_compare_states_cnt = [\n",
        "                        \"kofola_fast_cnt-states_cnt\",\n",
        "                        \"kofola_fast_early_cnt-states_cnt\",\n",
        "                        \"kofola_fast_early_plus_cnt-states_cnt\",\n",
        "                        \"kofola_fast_early_early_plus_cnt-states_cnt\",\n",
        "                        ]\n",
        "            \n",
        "y_tool = \"kofola_fast_cnt-states_cnt\"\n",
        "# y_tool = \"autfilt_64_cnt-states_cnt\"\n",
        "\n",
        "def plot_states_cnt(df_eng, df_eng_summary, output_file=\"plots.pdf\"):\n",
        "  df_eng_copy = df_eng.copy()\n",
        "  df_eng_summary_copy = df_eng_summary.copy()\n",
        "  pair_list = [(meth1, y_tool) for meth1 in to_compare_states_cnt]\n",
        "\n",
        "  MAX=df_eng_summary_copy['max'].max() * 1.8\n",
        "  df_eng_copy = el.sanitize_results(df_eng_copy,df_eng_summary_copy,TIMEOUT_VAL)\n",
        "  with PdfPages(output_file) as pdf:\n",
        "    for (meth1, meth2) in pair_list:\n",
        "      plot = el.scatplot(df_eng_copy, {'x': meth1, 'y': meth2, 'max': MAX, 'states': True})\n",
        "      file_name = f\"plots/{meth1}_vs_{meth2}.pdf\"\n",
        "      plot.save(file_name, format='pdf', bbox_inches='tight')"
      ]
    },
    {
      "cell_type": "markdown",
      "metadata": {
        "id": "A-cAjCS7fdeI"
      },
      "source": [
        "# **States_cnt**"
      ]
    },
    {
      "cell_type": "code",
      "execution_count": 10,
      "metadata": {
        "colab": {
          "base_uri": "https://localhost:8080/",
          "height": 817
        },
        "id": "2F0xlawEflKB",
        "outputId": "de1b6172-ea87-4bbd-de65-a4994c898147"
      },
      "outputs": [
        {
          "name": "stderr",
          "output_type": "stream",
          "text": [
            "/home/xalexa09/incl_eval/.venv/lib/python3.10/site-packages/plotnine/ggplot.py:615: PlotnineWarning: Saving 8 x 8 in image.\n",
            "/home/xalexa09/incl_eval/.venv/lib/python3.10/site-packages/plotnine/ggplot.py:616: PlotnineWarning: Filename: plots/kofola_fast_cnt-states_cnt_vs_autfilt_64_cnt-states_cnt.pdf\n",
            "/home/xalexa09/incl_eval/.venv/lib/python3.10/site-packages/plotnine/ggplot.py:615: PlotnineWarning: Saving 8 x 8 in image.\n",
            "/home/xalexa09/incl_eval/.venv/lib/python3.10/site-packages/plotnine/ggplot.py:616: PlotnineWarning: Filename: plots/kofola_fast_early_cnt-states_cnt_vs_autfilt_64_cnt-states_cnt.pdf\n",
            "/home/xalexa09/incl_eval/.venv/lib/python3.10/site-packages/plotnine/ggplot.py:615: PlotnineWarning: Saving 8 x 8 in image.\n",
            "/home/xalexa09/incl_eval/.venv/lib/python3.10/site-packages/plotnine/ggplot.py:616: PlotnineWarning: Filename: plots/kofola_fast_early_plus_cnt-states_cnt_vs_autfilt_64_cnt-states_cnt.pdf\n",
            "/home/xalexa09/incl_eval/.venv/lib/python3.10/site-packages/plotnine/ggplot.py:615: PlotnineWarning: Saving 8 x 8 in image.\n",
            "/home/xalexa09/incl_eval/.venv/lib/python3.10/site-packages/plotnine/ggplot.py:616: PlotnineWarning: Filename: plots/kofola_fast_early_early_plus_cnt-states_cnt_vs_autfilt_64_cnt-states_cnt.pdf\n"
          ]
        }
      ],
      "source": [
        "\n",
        "plot_states_cnt(df_combined, df_combined_summary)"
      ]
    },
    {
      "cell_type": "code",
      "execution_count": 42,
      "metadata": {},
      "outputs": [
        {
          "data": {
            "text/html": [
              "<div>\n",
              "<style scoped>\n",
              "    .dataframe tbody tr th:only-of-type {\n",
              "        vertical-align: middle;\n",
              "    }\n",
              "\n",
              "    .dataframe tbody tr th {\n",
              "        vertical-align: top;\n",
              "    }\n",
              "\n",
              "    .dataframe thead th {\n",
              "        text-align: right;\n",
              "    }\n",
              "</style>\n",
              "<table border=\"1\" class=\"dataframe\">\n",
              "  <thead>\n",
              "    <tr style=\"text-align: right;\">\n",
              "      <th></th>\n",
              "      <th>max</th>\n",
              "      <th>min</th>\n",
              "      <th>mean</th>\n",
              "      <th>median</th>\n",
              "      <th>std</th>\n",
              "      <th>timeouts</th>\n",
              "    </tr>\n",
              "  </thead>\n",
              "  <tbody>\n",
              "    <tr>\n",
              "      <th>kofola_fast_cnt-states_cnt</th>\n",
              "      <td>824363.0</td>\n",
              "      <td>2.0</td>\n",
              "      <td>2898.187638</td>\n",
              "      <td>13.0</td>\n",
              "      <td>41356.618642</td>\n",
              "      <td>0.0</td>\n",
              "    </tr>\n",
              "    <tr>\n",
              "      <th>kofola_fast_early_cnt-states_cnt</th>\n",
              "      <td>788073.0</td>\n",
              "      <td>2.0</td>\n",
              "      <td>2632.870861</td>\n",
              "      <td>13.0</td>\n",
              "      <td>38937.834893</td>\n",
              "      <td>0.0</td>\n",
              "    </tr>\n",
              "    <tr>\n",
              "      <th>kofola_fast_early_plus_cnt-states_cnt</th>\n",
              "      <td>788073.0</td>\n",
              "      <td>2.0</td>\n",
              "      <td>2632.471302</td>\n",
              "      <td>13.0</td>\n",
              "      <td>38937.843151</td>\n",
              "      <td>0.0</td>\n",
              "    </tr>\n",
              "    <tr>\n",
              "      <th>kofola_fast_early_early_plus_cnt-states_cnt</th>\n",
              "      <td>788073.0</td>\n",
              "      <td>2.0</td>\n",
              "      <td>2632.456954</td>\n",
              "      <td>13.0</td>\n",
              "      <td>38937.844103</td>\n",
              "      <td>0.0</td>\n",
              "    </tr>\n",
              "    <tr>\n",
              "      <th>autfilt_64_cnt-states_cnt</th>\n",
              "      <td>4810052.0</td>\n",
              "      <td>1.0</td>\n",
              "      <td>11709.420582</td>\n",
              "      <td>47.0</td>\n",
              "      <td>177302.852728</td>\n",
              "      <td>12.0</td>\n",
              "    </tr>\n",
              "  </tbody>\n",
              "</table>\n",
              "</div>"
            ],
            "text/plain": [
              "                                                   max  min          mean  \\\n",
              "kofola_fast_cnt-states_cnt                    824363.0  2.0   2898.187638   \n",
              "kofola_fast_early_cnt-states_cnt              788073.0  2.0   2632.870861   \n",
              "kofola_fast_early_plus_cnt-states_cnt         788073.0  2.0   2632.471302   \n",
              "kofola_fast_early_early_plus_cnt-states_cnt   788073.0  2.0   2632.456954   \n",
              "autfilt_64_cnt-states_cnt                    4810052.0  1.0  11709.420582   \n",
              "\n",
              "                                             median            std  timeouts  \n",
              "kofola_fast_cnt-states_cnt                     13.0   41356.618642       0.0  \n",
              "kofola_fast_early_cnt-states_cnt               13.0   38937.834893       0.0  \n",
              "kofola_fast_early_plus_cnt-states_cnt          13.0   38937.843151       0.0  \n",
              "kofola_fast_early_early_plus_cnt-states_cnt    13.0   38937.844103       0.0  \n",
              "autfilt_64_cnt-states_cnt                      47.0  177302.852728      12.0  "
            ]
          },
          "execution_count": 42,
          "metadata": {},
          "output_type": "execute_result"
        }
      ],
      "source": [
        "filtered_rows = df_combined_summary[\n",
        "    df_combined_summary.index.str.endswith('-states_cnt') & df_combined_summary.index.str.contains('_cnt-')\n",
        "]# filtered_rows\n",
        "filtered_rows"
      ]
    },
    {
      "cell_type": "code",
      "execution_count": 12,
      "metadata": {},
      "outputs": [
        {
          "name": "stdout",
          "output_type": "stream",
          "text": [
            "| method                                      |   wins |   wins-timeouts |   losses |   losses-timeouts |\n",
            "|---------------------------------------------|--------|-----------------|----------|-------------------|\n",
            "| kofola_fast_early_early_plus_cnt-states_cnt |     64 |               0 |      336 |                 2 |\n",
            "| kofola_fast_cnt-states_cnt                  |     64 |               0 |      336 |                 2 |\n",
            "\n",
            "\n",
            "\n"
          ]
        },
        {
          "name": "stderr",
          "output_type": "stream",
          "text": [
            "/home/xalexa09/incl_eval/.venv/lib/python3.10/site-packages/numpy/lib/_nanfunctions_impl.py:1215: RuntimeWarning: Mean of empty slice\n",
            "/home/xalexa09/incl_eval/.venv/lib/python3.10/site-packages/numpy/lib/_nanfunctions_impl.py:1215: RuntimeWarning: Mean of empty slice\n",
            "/home/xalexa09/incl_eval/.venv/lib/python3.10/site-packages/numpy/lib/_nanfunctions_impl.py:1215: RuntimeWarning: Mean of empty slice\n",
            "/home/xalexa09/incl_eval/.venv/lib/python3.10/site-packages/numpy/lib/_nanfunctions_impl.py:1215: RuntimeWarning: Mean of empty slice\n",
            "/home/xalexa09/incl_eval/.venv/lib/python3.10/site-packages/numpy/lib/_nanfunctions_impl.py:1215: RuntimeWarning: Mean of empty slice\n",
            "/home/xalexa09/incl_eval/.venv/lib/python3.10/site-packages/numpy/lib/_nanfunctions_impl.py:1215: RuntimeWarning: Mean of empty slice\n"
          ]
        }
      ],
      "source": [
        "def compute_state_wins(df,method):\n",
        "  all_methods = [\n",
        "                 \"kofola_fast_early_early_plus\",\n",
        "                 \"kofola_fast\"\n",
        "                ]\n",
        "  suffix = \"_cnt-states_cnt\"\n",
        "  method_suf = method + suffix\n",
        "  all_methods_suf = [m + suffix for m in all_methods]\n",
        "\n",
        "  compare_methods = []\n",
        "  for m in all_methods_suf:\n",
        "    if (m != method_suf):\n",
        "      compare_methods += [(method_suf, m)]\n",
        "\n",
        "  dict_wins = {}\n",
        "  for left, right in compare_methods:\n",
        "        left_over_right = df[df[left] < df[right]]\n",
        "        right_timeouts = left_over_right[left_over_right[right] == states_timeout]\n",
        "\n",
        "        right_over_left = df[df[left] > df[right]]\n",
        "        left_timeouts = right_over_left[right_over_left[left] == states_timeout]\n",
        "\n",
        "        dict_wins[right] = {'wins': len(left_over_right),\n",
        "                            'winsTO': len(right_timeouts),\n",
        "                            'losses': len(right_over_left),\n",
        "                            'lossesTO': len(left_timeouts),\n",
        "                           }\n",
        "  return dict_wins\n",
        "\n",
        "def print_win_table_states_cnt(df, method):\n",
        "  dict_wins = compute_state_wins(df, method)\n",
        "  tab_wins = []\n",
        "  for key, val in dict_wins.items():\n",
        "    tab_wins.append([key, val['wins'], val['winsTO'], val['losses'], val['lossesTO']])\n",
        "  headers_wins = [\"method\", \"wins\", \"wins-timeouts\", \"losses\", \"losses-timeouts\"]\n",
        "  #table_to_file(tab_wins, headers_wins, out_prefix + \"_table1right\")\n",
        "  print(tab.tabulate(tab_wins, headers=headers_wins, tablefmt=\"github\"))\n",
        "\n",
        "\n",
        "df_sant = df_combined.copy()\n",
        "states_timeout = el.summary_stats(df_sant)['max'].max() * 1.8\n",
        "df_sant = el.sanitize_results(df_sant, el.summary_stats(df_sant), TIMEOUT_VAL)\n",
        "print_win_table_states_cnt(df_sant, \"autfilt_64\")\n",
        "print(\"\\n\\n\")"
      ]
    }
  ],
  "metadata": {
    "colab": {
      "provenance": []
    },
    "kernelspec": {
      "display_name": ".venv",
      "language": "python",
      "name": "python3"
    },
    "language_info": {
      "codemirror_mode": {
        "name": "ipython",
        "version": 3
      },
      "file_extension": ".py",
      "mimetype": "text/x-python",
      "name": "python",
      "nbconvert_exporter": "python",
      "pygments_lexer": "ipython3",
      "version": "3.10.12"
    }
  },
  "nbformat": 4,
  "nbformat_minor": 0
}
